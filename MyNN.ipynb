{
  "nbformat": 4,
  "nbformat_minor": 0,
  "metadata": {
    "colab": {
      "provenance": [],
      "authorship_tag": "ABX9TyMu1s0hm+KXkYtpIkxJqljZ"
    },
    "kernelspec": {
      "name": "python3",
      "display_name": "Python 3"
    },
    "language_info": {
      "name": "python"
    }
  },
  "cells": [
    {
      "cell_type": "code",
      "execution_count": null,
      "metadata": {
        "id": "QBuP0xYYKBf9"
      },
      "outputs": [],
      "source": [
        "import math\n",
        "import numpy as np\n",
        "import random"
      ]
    },
    {
      "cell_type": "code",
      "source": [
        "class Value:\n",
        "\n",
        "  def __init__(self, data, _children=(), _op='', label=''):\n",
        "    self.data = data\n",
        "    self.grad = 0.0\n",
        "    self._backward = lambda: None\n",
        "    self._prev = set(_children)\n",
        "    self._op = _op\n",
        "    self.label = label\n",
        "\n",
        "  def __repr__(self):\n",
        "    return f\"Value(data={self.data})\"\n",
        "\n",
        "  def __add__(self, other):\n",
        "    other = other if isinstance(other, Value) else Value(other)\n",
        "    out = Value(self.data + other.data, (self, other), '+')\n",
        "\n",
        "    def _backward():\n",
        "      self.grad += 1.0 * out.grad\n",
        "      other.grad += 1.0 * out.grad\n",
        "    out._backward = _backward\n",
        "\n",
        "    return out\n",
        "\n",
        "  def __mul__(self, other):\n",
        "    other = other if isinstance(other, Value) else Value(other)\n",
        "    out = Value(self.data * other.data, (self, other), '*')\n",
        "\n",
        "    def _backward():\n",
        "      self.grad += other.data * out.grad\n",
        "      other.grad += self.data * out.grad\n",
        "    out._backward = _backward\n",
        "\n",
        "    return out\n",
        "\n",
        "  def __pow__(self, other):\n",
        "\n",
        "    out = Value(self.data**other, (self,), f'**{other}')\n",
        "\n",
        "    def _backward():\n",
        "        self.grad += other * (self.data ** (other - 1)) * out.grad\n",
        "    out._backward = _backward\n",
        "\n",
        "    return out\n",
        "\n",
        "  def __rmul__(self, other): # other * self\n",
        "    return self * other\n",
        "\n",
        "  def __truediv__(self, other): # self / other\n",
        "    return self * other**-1\n",
        "\n",
        "  def __neg__(self): # -self\n",
        "    return self * -1\n",
        "\n",
        "  def __sub__(self, other): # self - other\n",
        "    return self + (-other)\n",
        "\n",
        "  def __radd__(self, other): # other + self\n",
        "    return self + other\n",
        "\n",
        "  def tanh(self):\n",
        "    x = self.data\n",
        "    t = (math.exp(2*x) - 1)/(math.exp(2*x) + 1)\n",
        "    out = Value(t, (self, ), 'tanh')\n",
        "\n",
        "    def _backward():\n",
        "      self.grad += (1 - t**2) * out.grad\n",
        "    out._backward = _backward\n",
        "\n",
        "    return out\n",
        "\n",
        "  def sigmoid(self):\n",
        "    x = self.data\n",
        "    t = 1/(1+math.exp(-x))\n",
        "    out = Value(t, (self, ), 'tanh')\n",
        "\n",
        "    def _backward():\n",
        "      self.grad += t*(1-t) * out.grad\n",
        "    out._backward = _backward\n",
        "\n",
        "    return out\n",
        "\n",
        "  def exp(self):\n",
        "    x = self.data\n",
        "    out = Value(math.exp(x), (self, ), 'exp')\n",
        "\n",
        "    def _backward():\n",
        "      self.grad += out.data * out.grad # NOTE: in the video I incorrectly used = instead of +=. Fixed here.\n",
        "    out._backward = _backward\n",
        "\n",
        "    return out\n",
        "\n",
        "  def relu(self):\n",
        "    out = Value(max(0, self.data), (self,), 'ReLU')\n",
        "\n",
        "    def _backward():\n",
        "        self.grad += (out.data > 0) * out.grad\n",
        "    out._backward = _backward\n",
        "\n",
        "    return out\n",
        "\n",
        "\n",
        "  def backward(self):\n",
        "\n",
        "    topo = []\n",
        "    visited = set()\n",
        "    def build_topo(v):\n",
        "      if v not in visited:\n",
        "        visited.add(v)\n",
        "        for child in v._prev:\n",
        "          build_topo(child)\n",
        "        topo.append(v)\n",
        "    build_topo(self)\n",
        "\n",
        "    self.grad = 1.0\n",
        "    for node in reversed(topo):\n",
        "      node._backward()\n"
      ],
      "metadata": {
        "id": "bf7ldA_cKbIZ"
      },
      "execution_count": null,
      "outputs": []
    },
    {
      "cell_type": "code",
      "source": [
        "class Neuron:\n",
        "\n",
        "  def __init__(self, nin):\n",
        "    self.w = [Value(random.uniform(-1,1), label=f'w{i+1}') for i in range(nin)]\n",
        "    self.b = Value(random.uniform(-1,1), label='b')\n",
        "\n",
        "  def __call__(self, x, act):\n",
        "    # w * x + b\n",
        "    out = sum((wi*xi for wi, xi in zip(self.w, x)), self.b)\n",
        "    if act:\n",
        "      out = out.sigmoid()\n",
        "\n",
        "    return out\n",
        "\n",
        "  def parameters(self):\n",
        "    return self.w + [self.b]\n",
        "\n",
        "class Layer:\n",
        "\n",
        "  def __init__(self, nin, nout):\n",
        "    self.neurons = [Neuron(nin) for _ in range(nout)]\n",
        "\n",
        "  def __call__(self, x, act):\n",
        "\n",
        "    outs = [n(x, act) for n in self.neurons]\n",
        "    return outs[0] if len(outs) == 1 else outs\n",
        "\n",
        "  def parameters(self):\n",
        "    return [p for neuron in self.neurons for p in neuron.parameters()]\n",
        "\n",
        "class MLP:\n",
        "\n",
        "  def __init__(self, nin, nouts):\n",
        "    sz = [nin] + nouts\n",
        "    self.layers = [Layer(sz[i], sz[i+1]) for i in range(len(nouts))]\n",
        "\n",
        "  def __call__(self, x):\n",
        "      for i, layer in enumerate(self.layers):\n",
        "          if i < len(self.layers) - 1:\n",
        "              x = layer(x, 1)\n",
        "          else:\n",
        "              x = layer(x, 0)\n",
        "      return x\n",
        "\n",
        "  def parameters(self):\n",
        "    return [p for layer in self.layers for p in layer.parameters()]"
      ],
      "metadata": {
        "id": "RNWC5qYbKlow"
      },
      "execution_count": 34,
      "outputs": []
    },
    {
      "cell_type": "code",
      "source": [
        "import numpy as np\n",
        "import pandas as pd\n",
        "import matplotlib.pyplot as plt\n",
        "import seaborn as sns\n",
        "from sklearn.datasets import load_diabetes\n",
        "from sklearn.model_selection import train_test_split\n",
        "from sklearn.preprocessing import StandardScaler"
      ],
      "metadata": {
        "id": "_R6_m9GhLZLe"
      },
      "execution_count": 43,
      "outputs": []
    },
    {
      "cell_type": "code",
      "source": [
        "diabetes = load_diabetes()"
      ],
      "metadata": {
        "id": "1JG1PY_8MwTx"
      },
      "execution_count": 10,
      "outputs": []
    },
    {
      "cell_type": "code",
      "source": [
        "X_reg = diabetes.data\n",
        "y_reg = diabetes.target\n",
        "print(X_reg[0], y_reg[0])\n",
        "\n",
        "\n",
        "scaler = StandardScaler()\n",
        "\n",
        "X_train_reg, X_test_reg, y_train_reg, y_test_reg = train_test_split(X_reg, y_reg, test_size=0.2, random_state=42)\n",
        "\n",
        "X_train_reg = scaler.fit_transform(X_train_reg)\n",
        "X_test_reg = scaler.transform(X_test_reg)\n",
        "\n"
      ],
      "metadata": {
        "colab": {
          "base_uri": "https://localhost:8080/"
        },
        "id": "olB4saZbM3AQ",
        "outputId": "19b99d7f-522c-426f-cbdc-e1db580a4d17"
      },
      "execution_count": 50,
      "outputs": [
        {
          "output_type": "stream",
          "name": "stdout",
          "text": [
            "[ 0.03807591  0.05068012  0.06169621  0.02187239 -0.0442235  -0.03482076\n",
            " -0.04340085 -0.00259226  0.01990749 -0.01764613] 151.0\n"
          ]
        }
      ]
    },
    {
      "cell_type": "code",
      "source": [
        "n = MLP(10, [10, 10, 10, 1])  # MLP con più livelli\n",
        "\n",
        "# Learning rate\n",
        "learning_rate = 0.1  # Tasso di apprendimento\n",
        "\n",
        "# Allenamento\n",
        "for epoch in range(30):  # Numero di epoch\n",
        "    # Forward pass\n",
        "    loss = 0\n",
        "    leng = X_train_reg.shape[0]\n",
        "    for i in range(leng):\n",
        "      loss = loss + (n(X_train_reg[i]) - y_train_reg[i]) ** 2\n",
        "    loss = loss/leng\n",
        "\n",
        "    # Output della perdita\n",
        "\n",
        "    print(f'Epoch {epoch + 1}, Loss: {loss.data}')\n",
        "\n",
        "    # Backward pass\n",
        "    for p in n.parameters():\n",
        "        p.grad = 0.0\n",
        "    loss.backward()\n",
        "\n",
        "    # Aggiornamento dei parametri\n",
        "    for p in n.parameters():\n",
        "        p.data -= learning_rate * p.grad\n"
      ],
      "metadata": {
        "colab": {
          "base_uri": "https://localhost:8080/"
        },
        "id": "FlizzRpBOYBE",
        "outputId": "0618a733-9abd-4f93-e26c-c8010c76cca7"
      },
      "execution_count": 51,
      "outputs": [
        {
          "output_type": "stream",
          "name": "stdout",
          "text": [
            "Epoch 1, Loss: 29612.478566310336\n",
            "Epoch 2, Loss: 6824.2503829119605\n",
            "Epoch 3, Loss: 6259.197236001357\n",
            "Epoch 4, Loss: 6105.607130124098\n",
            "Epoch 5, Loss: 6081.03616584469\n",
            "Epoch 6, Loss: 6077.104445057513\n",
            "Epoch 7, Loss: 6076.4742577277675\n",
            "Epoch 8, Loss: 6076.372125700567\n",
            "Epoch 9, Loss: 6076.3543700117825\n",
            "Epoch 10, Loss: 6076.350006109334\n",
            "Epoch 11, Loss: 6076.347666495178\n",
            "Epoch 12, Loss: 6076.345518648401\n",
            "Epoch 13, Loss: 6076.343252928669\n",
            "Epoch 14, Loss: 6076.340800495477\n",
            "Epoch 15, Loss: 6076.338127546826\n",
            "Epoch 16, Loss: 6076.335201612916\n",
            "Epoch 17, Loss: 6076.331985111796\n",
            "Epoch 18, Loss: 6076.3284329578\n",
            "Epoch 19, Loss: 6076.324490374261\n",
            "Epoch 20, Loss: 6076.320090129693\n",
            "Epoch 21, Loss: 6076.315148814118\n",
            "Epoch 22, Loss: 6076.309561713434\n",
            "Epoch 23, Loss: 6076.30319562281\n",
            "Epoch 24, Loss: 6076.295878570769\n",
            "Epoch 25, Loss: 6076.2873847998835\n",
            "Epoch 26, Loss: 6076.277412262798\n",
            "Epoch 27, Loss: 6076.265547937859\n",
            "Epoch 28, Loss: 6076.251212606788\n",
            "Epoch 29, Loss: 6076.233569552975\n",
            "Epoch 30, Loss: 6076.211366759843\n"
          ]
        }
      ]
    },
    {
      "cell_type": "code",
      "source": [
        "\n",
        "leng = X_test_reg.shape[0]\n",
        "loss = 0\n",
        "for i in range(leng):\n",
        "  loss = loss + ((n(X_test_reg[i]) - y_test_reg[i]) ** 2)/leng\n",
        "loss"
      ],
      "metadata": {
        "colab": {
          "base_uri": "https://localhost:8080/"
        },
        "id": "ZUnNaxryTZ4g",
        "outputId": "ea1373bb-2662-49ec-a08d-bda055683031"
      },
      "execution_count": 52,
      "outputs": [
        {
          "output_type": "execute_result",
          "data": {
            "text/plain": [
              "Value(data=5361.363993291448)"
            ]
          },
          "metadata": {},
          "execution_count": 52
        }
      ]
    }
  ]
}